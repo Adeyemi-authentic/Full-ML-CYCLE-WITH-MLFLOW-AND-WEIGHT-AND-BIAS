{
 "cells": [
  {
   "cell_type": "code",
   "execution_count": 1,
   "id": "cb224381-261c-4efa-8e54-18f835c003c2",
   "metadata": {},
   "outputs": [],
   "source": [
    "filepath=r\"C:\\Users\\USER\\OneDrive\\Documents\\draw football model datasets\\combined_draw.csv\""
   ]
  },
  {
   "cell_type": "code",
   "execution_count": 2,
   "id": "2fb81a43-e4d6-49d3-b8df-4c46b7d9fcbf",
   "metadata": {},
   "outputs": [],
   "source": [
    "import pandas as pd\n",
    "import numpy as np\n",
    "import torch\n",
    "import torch.nn as nn\n",
    "from torch.utils.data import DataLoader, TensorDataset\n",
    "import torch.optim as optim\n",
    "from sklearn.model_selection import train_test_split\n",
    "from sklearn.metrics import accuracy_score, classification_report, confusion_matrix\n",
    "from sklearn.preprocessing import StandardScaler\n",
    "import wandb\n",
    "from pathlib import Path"
   ]
  },
  {
   "cell_type": "code",
   "execution_count": 3,
   "id": "2a550aa7-3e4a-489d-b267-3e0887379511",
   "metadata": {},
   "outputs": [],
   "source": [
    "def load_and_preprocess_data(filepath):\n",
    "    \"\"\"Load and preprocess the football match data\"\"\"\n",
    "    data = pd.read_csv(filepath)\n",
    "    \n",
    "    print(\"Dataset Info:\")\n",
    "    print(data.info())\n",
    "    print(f\"\\nDuplicates found: {data.duplicated().any()}\")\n",
    "    print(f\"Dataset shape: {data.shape}\")\n",
    "    \n",
    "    # Create a copy for processing\n",
    "    data2 = data.copy()\n",
    "    \n",
    "    # Feature engineering - create win/draw/loss indicators\n",
    "    data2['home_wins'] = (data2['Result'] == 'HOME_TEAM').astype(int)\n",
    "    data2['home_draws'] = (data2['Result'] == 'DRAW').astype(int)\n",
    "    data2['home_losses'] = (data2['Result'] == 'AWAY_TEAM').astype(int)\n",
    "    \n",
    "    data2['away_wins'] = (data2['Result'] == 'AWAY_TEAM').astype(int)\n",
    "    data2['away_draws'] = (data2['Result'] == 'DRAW').astype(int)\n",
    "    data2['away_losses'] = (data2['Result'] == 'HOME_TEAM').astype(int)\n",
    "    \n",
    "    # Create cumulative statistics\n",
    "    data2['Cumulative_Home_Wins'] = data2.groupby('home_team')['home_wins'].cumsum()\n",
    "    data2['Cumulative_Home_Draws'] = data2.groupby('home_team')['home_draws'].cumsum()\n",
    "    data2['Cumulative_Home_Losses'] = data2.groupby('home_team')['home_losses'].cumsum()\n",
    "    \n",
    "    data2['Cumulative_Away_Wins'] = data2.groupby('away_team')['away_wins'].cumsum()\n",
    "    data2['Cumulative_Away_Draws'] = data2.groupby('away_team')['away_draws'].cumsum()\n",
    "    data2['Cumulative_Away_Losses'] = data2.groupby('away_team')['away_losses'].cumsum()\n",
    "    \n",
    "    # Encode categorical variables\n",
    "    data2['home_team'] = data2['home_team'].astype(\"category\").cat.codes\n",
    "    data2['away_team'] = data2['away_team'].astype(\"category\").cat.codes\n",
    "    data2[\"Result\"] = data2[\"Result\"].astype(\"category\").cat.codes\n",
    "    \n",
    "    # Prepare features and target\n",
    "    X = data2.drop(columns=[\"id\", \"matchday\", \"date\", \"home_score\", \"away_score\", \"Result\", \n",
    "                           \"home_points\", \"away_points\", \"home_wins\", \"home_draws\", \"home_losses\",\n",
    "                           \"away_wins\", \"away_draws\", \"away_losses\"], axis=1)\n",
    "    y = data2[\"Result\"]\n",
    "    \n",
    "    # Handle missing values\n",
    "    X = X.fillna(0)\n",
    "    \n",
    "    return X, y"
   ]
  },
  {
   "cell_type": "code",
   "execution_count": 4,
   "id": "27168c22-c8a2-4ea7-87c8-d13d3b5fae93",
   "metadata": {},
   "outputs": [],
   "source": [
    "class MatchPredictionModel(nn.Module):\n",
    "    def __init__(self, input_dim, hidden_dim, out_dim, dropout_prob=0.5, num_layers=2):\n",
    "        super(MatchPredictionModel, self).__init__()\n",
    "        \n",
    "        layers = []\n",
    "        current_dim = input_dim\n",
    "        \n",
    "        for i in range(num_layers):\n",
    "            next_dim = hidden_dim // (2 ** i)\n",
    "            layers.extend([\n",
    "                nn.Linear(current_dim, next_dim),\n",
    "                nn.BatchNorm1d(next_dim),\n",
    "                nn.ReLU(),\n",
    "                nn.Dropout(dropout_prob)\n",
    "            ])\n",
    "            current_dim = next_dim\n",
    "        \n",
    "        layers.append(nn.Linear(current_dim, out_dim))\n",
    "        self.network = nn.Sequential(*layers)\n",
    "\n",
    "    def forward(self, x):\n",
    "        return self.network(x)"
   ]
  },
  {
   "cell_type": "code",
   "execution_count": 5,
   "id": "a27cbaf8-38f1-4535-8a45-1aed0fc93607",
   "metadata": {},
   "outputs": [],
   "source": [
    "def train_epoch(model, train_loader, criterion, optimizer, device):\n",
    "    \"\"\"Train for one epoch\"\"\"\n",
    "    model.train()\n",
    "    total_loss = 0\n",
    "    correct = 0\n",
    "    total = 0\n",
    "    \n",
    "    for batch_X, batch_y in train_loader:\n",
    "        batch_X, batch_y = batch_X.to(device), batch_y.to(device)\n",
    "        \n",
    "        optimizer.zero_grad()\n",
    "        outputs = model(batch_X)\n",
    "        loss = criterion(outputs, batch_y)\n",
    "        loss.backward()\n",
    "        optimizer.step()\n",
    "        \n",
    "        total_loss += loss.item()\n",
    "        _, predicted = torch.max(outputs.data, 1)\n",
    "        total += batch_y.size(0)\n",
    "        correct += (predicted == batch_y).sum().item()\n",
    "    \n",
    "    avg_loss = total_loss / len(train_loader)\n",
    "    accuracy = 100 * correct / total\n",
    "    return avg_loss, accuracy\n",
    "\n",
    "def validate_epoch(model, test_loader, criterion, device):\n",
    "    \"\"\"Validate the model\"\"\"\n",
    "    model.eval()\n",
    "    total_loss = 0\n",
    "    correct = 0\n",
    "    total = 0\n",
    "    all_predictions = []\n",
    "    all_targets = []\n",
    "    all_probs = []\n",
    "    \n",
    "    with torch.no_grad():\n",
    "        for batch_X, batch_y in test_loader:\n",
    "            batch_X, batch_y = batch_X.to(device), batch_y.to(device)\n",
    "            \n",
    "            outputs = model(batch_X)\n",
    "            loss = criterion(outputs, batch_y)\n",
    "            \n",
    "            probs = torch.softmax(outputs, dim=1)\n",
    "            \n",
    "            total_loss += loss.item()\n",
    "            _, predicted = torch.max(outputs.data, 1)\n",
    "            total += batch_y.size(0)\n",
    "            correct += (predicted == batch_y).sum().item()\n",
    "            \n",
    "            all_predictions.extend(predicted.cpu().numpy())\n",
    "            all_targets.extend(batch_y.cpu().numpy())\n",
    "            all_probs.extend(probs.cpu().numpy())\n",
    "    \n",
    "    avg_loss = total_loss / len(test_loader)\n",
    "    accuracy = 100 * correct / total\n",
    "    return avg_loss, accuracy, all_predictions, all_targets, all_probs"
   ]
  },
  {
   "cell_type": "code",
   "execution_count": 6,
   "id": "aef0cfd1-c2a4-447e-a227-01d797190d60",
   "metadata": {},
   "outputs": [],
   "source": [
    "def compute_feature_importance(model, X_tensor, feature_names, device, num_samples=50):\n",
    "    \"\"\"Compute feature importance using gradient-based analysis\"\"\"\n",
    "    model.eval()\n",
    "    X_sample = X_tensor[:num_samples].to(device)\n",
    "    X_sample.requires_grad_(True)\n",
    "    \n",
    "    outputs = model(X_sample)\n",
    "    \n",
    "    class_gradients = []\n",
    "    for class_idx in range(3):\n",
    "        model.zero_grad()\n",
    "        class_output = outputs[:, class_idx].sum()\n",
    "        class_output.backward(retain_graph=True)\n",
    "        class_gradients.append(X_sample.grad.abs().mean(0).cpu().detach().numpy())\n",
    "    \n",
    "    feature_importance = np.mean(class_gradients, axis=0)\n",
    "    importance_df = pd.DataFrame({\n",
    "        'Feature': feature_names,\n",
    "        'Importance': feature_importance\n",
    "    }).sort_values('Importance', ascending=False)\n",
    "    \n",
    "    return importance_df"
   ]
  },
  {
   "cell_type": "code",
   "execution_count": 7,
   "id": "e0ba8431-03b2-47be-939b-7e5464172751",
   "metadata": {},
   "outputs": [],
   "source": [
    "\n",
    "def train_model(config=None):\n",
    "    \"\"\"Main training function with W&B integration\"\"\"\n",
    "    \n",
    "    # Initialize W&B run\n",
    "    with wandb.init(config=config):\n",
    "        config = wandb.config\n",
    "        \n",
    "        # Set device\n",
    "        device = torch.device('cuda' if torch.cuda.is_available() else 'cpu')\n",
    "        print(f\"Using device: {device}\")\n",
    "        \n",
    "        # Load and preprocess data\n",
    "        X, y = load_and_preprocess_data(config.data_path)\n",
    "        \n",
    "        # Standardize features\n",
    "        sc = StandardScaler()\n",
    "        X_scaled = sc.fit_transform(X)\n",
    "        \n",
    "        # Split data\n",
    "        X_train, X_test, y_train, y_test = train_test_split(\n",
    "            X_scaled, y, test_size=0.2, random_state=42, stratify=y\n",
    "        )\n",
    "        \n",
    "        # Convert to tensors\n",
    "        X_train_tensor = torch.FloatTensor(X_train)\n",
    "        y_train_tensor = torch.LongTensor(y_train.values)\n",
    "        X_test_tensor = torch.FloatTensor(X_test)\n",
    "        y_test_tensor = torch.LongTensor(y_test.values)\n",
    "        \n",
    "        # Create data loaders\n",
    "        train_dataset = TensorDataset(X_train_tensor, y_train_tensor)\n",
    "        test_dataset = TensorDataset(X_test_tensor, y_test_tensor)\n",
    "        \n",
    "        train_loader = DataLoader(train_dataset, batch_size=config.batch_size, shuffle=True)\n",
    "        test_loader = DataLoader(test_dataset, batch_size=config.batch_size, shuffle=False)\n",
    "        \n",
    "        # Initialize model\n",
    "        model = MatchPredictionModel(\n",
    "            input_dim=X_train_tensor.shape[1],\n",
    "            hidden_dim=config.hidden_dim,\n",
    "            out_dim=3,\n",
    "            dropout_prob=config.dropout_prob,\n",
    "            num_layers=config.num_layers\n",
    "        ).to(device)\n",
    "        \n",
    "        # Loss and optimizer\n",
    "        criterion = nn.CrossEntropyLoss()\n",
    "        \n",
    "        if config.optimizer == \"Adam\":\n",
    "            optimizer = optim.Adam(model.parameters(), lr=config.learning_rate, \n",
    "                                  weight_decay=config.weight_decay)\n",
    "        elif config.optimizer == \"SGD\":\n",
    "            optimizer = optim.SGD(model.parameters(), lr=config.learning_rate, \n",
    "                                 momentum=0.9, weight_decay=config.weight_decay)\n",
    "        else:\n",
    "            optimizer = optim.AdamW(model.parameters(), lr=config.learning_rate,\n",
    "                                   weight_decay=config.weight_decay)\n",
    "        \n",
    "        # Learning rate scheduler\n",
    "        scheduler = optim.lr_scheduler.ReduceLROnPlateau(\n",
    "            optimizer, mode='min', factor=0.5, patience=5, verbose=True\n",
    "        )\n",
    "        \n",
    "        # Watch model with W&B\n",
    "        wandb.watch(model, criterion, log=\"all\", log_freq=10)\n",
    "        \n",
    "        # Log dataset info\n",
    "        wandb.log({\n",
    "            \"dataset/train_size\": len(X_train),\n",
    "            \"dataset/test_size\": len(X_test),\n",
    "            \"dataset/num_features\": X_train.shape[1],\n",
    "            \"dataset/class_distribution\": dict(y_train.value_counts())\n",
    "        })\n",
    "        \n",
    "        # Training loop\n",
    "        best_val_accuracy = 0\n",
    "        best_model_path = \"best_model.pth\"\n",
    "        patience_counter = 0\n",
    "        \n",
    "        for epoch in range(config.epochs):\n",
    "            # Train\n",
    "            train_loss, train_acc = train_epoch(model, train_loader, criterion, optimizer, device)\n",
    "            \n",
    "            # Validate\n",
    "            val_loss, val_acc, val_preds, val_targets, val_probs = validate_epoch(\n",
    "                model, test_loader, criterion, device\n",
    "            )\n",
    "            \n",
    "            # Update scheduler\n",
    "            scheduler.step(val_loss)\n",
    "            \n",
    "            # Log metrics\n",
    "            metrics = {\n",
    "                \"epoch\": epoch,\n",
    "                \"train/loss\": train_loss,\n",
    "                \"train/accuracy\": train_acc,\n",
    "                \"val/loss\": val_loss,\n",
    "                \"val/accuracy\": val_acc,\n",
    "                \"learning_rate\": optimizer.param_groups[0]['lr']\n",
    "            }\n",
    "            wandb.log(metrics)\n",
    "            \n",
    "            # Save best model\n",
    "            if val_acc > best_val_accuracy:\n",
    "                best_val_accuracy = val_acc\n",
    "                patience_counter = 0\n",
    "                torch.save({\n",
    "                    'epoch': epoch,\n",
    "                    'model_state_dict': model.state_dict(),\n",
    "                    'optimizer_state_dict': optimizer.state_dict(),\n",
    "                    'val_accuracy': val_acc,\n",
    "                    'val_loss': val_loss,\n",
    "                    'config': dict(config)\n",
    "                }, best_model_path)\n",
    "                \n",
    "                # Log model as W&B artifact\n",
    "                artifact = wandb.Artifact(\n",
    "                    name=f\"model-{wandb.run.id}\",\n",
    "                    type=\"model\",\n",
    "                    description=f\"Best model at epoch {epoch} with val_acc {val_acc:.2f}%\"\n",
    "                )\n",
    "                artifact.add_file(best_model_path)\n",
    "                wandb.log_artifact(artifact)\n",
    "                \n",
    "            else:\n",
    "                patience_counter += 1\n",
    "                if patience_counter >= config.patience:\n",
    "                    print(f\"Early stopping at epoch {epoch}\")\n",
    "                    break\n",
    "            \n",
    "            # Periodic detailed logging\n",
    "            if (epoch + 1) % 10 == 0:\n",
    "                print(f\"Epoch [{epoch+1}/{config.epochs}]\")\n",
    "                print(f\"Train Loss: {train_loss:.4f}, Train Acc: {train_acc:.2f}%\")\n",
    "                print(f\"Val Loss: {val_loss:.4f}, Val Acc: {val_acc:.2f}%\")\n",
    "                print(\"-\" * 50)\n",
    "        \n",
    "        # Load best model for final evaluation\n",
    "        checkpoint = torch.load(best_model_path)\n",
    "        model.load_state_dict(checkpoint['model_state_dict'])\n",
    "        \n",
    "        # Final evaluation\n",
    "        final_val_loss, final_val_acc, final_preds, final_targets, final_probs = validate_epoch(\n",
    "            model, test_loader, criterion, device\n",
    "        )\n",
    "        \n",
    "        # Classification report\n",
    "        class_names = [\"Away Win\", \"Draw\", \"Home Win\"]\n",
    "        report = classification_report(final_targets, final_preds, \n",
    "                                      target_names=class_names, output_dict=True)\n",
    "        \n",
    "        # Log final metrics\n",
    "        wandb.log({\n",
    "            \"final/val_accuracy\": final_val_acc,\n",
    "            \"final/val_loss\": final_val_loss,\n",
    "            \"final/best_val_accuracy\": best_val_accuracy,\n",
    "        })\n",
    "        \n",
    "        # Log per-class metrics\n",
    "        for class_name in class_names:\n",
    "            wandb.log({\n",
    "                f\"final/{class_name}_precision\": report[class_name]['precision'],\n",
    "                f\"final/{class_name}_recall\": report[class_name]['recall'],\n",
    "                f\"final/{class_name}_f1\": report[class_name]['f1-score']\n",
    "            })\n",
    "        \n",
    "        # Confusion matrix\n",
    "        cm = confusion_matrix(final_targets, final_preds)\n",
    "        wandb.log({\n",
    "            \"final/confusion_matrix\": wandb.plot.confusion_matrix(\n",
    "                probs=None,\n",
    "                y_true=final_targets,\n",
    "                preds=final_preds,\n",
    "                class_names=class_names\n",
    "            )\n",
    "        })\n",
    "        \n",
    "        # Feature importance\n",
    "        importance_df = compute_feature_importance(\n",
    "            model, X_test_tensor, X.columns.tolist(), device\n",
    "        )\n",
    "        \n",
    "        importance_table = wandb.Table(dataframe=importance_df.head(10))\n",
    "        wandb.log({\"final/feature_importance_table\": importance_table})\n",
    "        \n",
    "        # Bar chart for feature importance\n",
    "        importance_data = [[name, imp] for name, imp in \n",
    "                          zip(importance_df['Feature'].head(10), \n",
    "                              importance_df['Importance'].head(10))]\n",
    "        importance_wandb_table = wandb.Table(data=importance_data, \n",
    "                                            columns=[\"Feature\", \"Importance\"])\n",
    "        wandb.log({\n",
    "            \"final/feature_importance_chart\": wandb.plot.bar(\n",
    "                importance_wandb_table, \"Feature\", \"Importance\",\n",
    "                title=\"Top 10 Feature Importances\"\n",
    "            )\n",
    "        })\n",
    "        \n",
    "        print(f\"\\nFinal Results:\")\n",
    "        print(f\"Best Validation Accuracy: {best_val_accuracy:.2f}%\")\n",
    "        print(f\"Final Validation Accuracy: {final_val_acc:.2f}%\")\n",
    "        print(f\"\\nClassification Report:\")\n",
    "        print(classification_report(final_targets, final_preds, target_names=class_names))\n",
    "        \n",
    "        return final_val_acc"
   ]
  },
  {
   "cell_type": "code",
   "execution_count": 8,
   "id": "00ac7c00-4654-4ad7-8204-f5b7b2b61ced",
   "metadata": {},
   "outputs": [
    {
     "name": "stderr",
     "output_type": "stream",
     "text": [
      "wandb: Currently logged in as: adey004azeez (adey004azeez-hiipower-academy) to https://api.wandb.ai. Use `wandb login --relogin` to force relogin\n"
     ]
    },
    {
     "name": "stdout",
     "output_type": "stream",
     "text": [
      "================================================================================\n",
      "OPTION 1: Single Training Run\n",
      "================================================================================\n",
      "\n",
      "================================================================================\n",
      "OPTION 2: Hyperparameter Sweep\n",
      "================================================================================\n",
      "Create sweep with ID: 7talnckg\n",
      "Sweep URL: https://wandb.ai/adey004azeez-hiipower-academy/football-match-prediction/sweeps/7talnckg\n",
      "\n",
      "Starting sweep with ID: 7talnckg\n",
      "Run the following command to start sweep agents:\n",
      "wandb agent 7talnckg\n",
      "\n",
      "Or run directly in Python:\n"
     ]
    },
    {
     "name": "stderr",
     "output_type": "stream",
     "text": [
      "wandb: Agent Starting Run: wt6hb9rk with config:\n",
      "wandb: \tbatch_size: 32\n",
      "wandb: \tdata_path: C:\\Users\\USER\\OneDrive\\Documents\\draw football model datasets\\combined_draw.csv\n",
      "wandb: \tdropout_prob: 0.3288303064066787\n",
      "wandb: \tepochs: 200\n",
      "wandb: \thidden_dim: 512\n",
      "wandb: \tlearning_rate: 0.008956353674387506\n",
      "wandb: \tnum_layers: 4\n",
      "wandb: \toptimizer: Adam\n",
      "wandb: \tpatience: 20\n",
      "wandb: \tweight_decay: 5.004714468202318e-05\n"
     ]
    },
    {
     "data": {
      "text/html": [],
      "text/plain": [
       "<IPython.core.display.HTML object>"
      ]
     },
     "metadata": {},
     "output_type": "display_data"
    },
    {
     "data": {
      "text/html": [
       "Tracking run with wandb version 0.22.0"
      ],
      "text/plain": [
       "<IPython.core.display.HTML object>"
      ]
     },
     "metadata": {},
     "output_type": "display_data"
    },
    {
     "data": {
      "text/html": [
       "Run data is saved locally in <code>C:\\Users\\USER\\wandb\\run-20251001_054612-wt6hb9rk</code>"
      ],
      "text/plain": [
       "<IPython.core.display.HTML object>"
      ]
     },
     "metadata": {},
     "output_type": "display_data"
    },
    {
     "data": {
      "text/html": [
       "Syncing run <strong><a href='https://wandb.ai/adey004azeez-hiipower-academy/football-match-prediction/runs/wt6hb9rk' target=\"_blank\">winter-sweep-1</a></strong> to <a href='https://wandb.ai/adey004azeez-hiipower-academy/football-match-prediction' target=\"_blank\">Weights & Biases</a> (<a href='https://wandb.me/developer-guide' target=\"_blank\">docs</a>)<br>Sweep page: <a href='https://wandb.ai/adey004azeez-hiipower-academy/football-match-prediction/sweeps/7talnckg' target=\"_blank\">https://wandb.ai/adey004azeez-hiipower-academy/football-match-prediction/sweeps/7talnckg</a>"
      ],
      "text/plain": [
       "<IPython.core.display.HTML object>"
      ]
     },
     "metadata": {},
     "output_type": "display_data"
    },
    {
     "data": {
      "text/html": [
       " View project at <a href='https://wandb.ai/adey004azeez-hiipower-academy/football-match-prediction' target=\"_blank\">https://wandb.ai/adey004azeez-hiipower-academy/football-match-prediction</a>"
      ],
      "text/plain": [
       "<IPython.core.display.HTML object>"
      ]
     },
     "metadata": {},
     "output_type": "display_data"
    },
    {
     "data": {
      "text/html": [
       " View sweep at <a href='https://wandb.ai/adey004azeez-hiipower-academy/football-match-prediction/sweeps/7talnckg' target=\"_blank\">https://wandb.ai/adey004azeez-hiipower-academy/football-match-prediction/sweeps/7talnckg</a>"
      ],
      "text/plain": [
       "<IPython.core.display.HTML object>"
      ]
     },
     "metadata": {},
     "output_type": "display_data"
    },
    {
     "data": {
      "text/html": [
       " View run at <a href='https://wandb.ai/adey004azeez-hiipower-academy/football-match-prediction/runs/wt6hb9rk' target=\"_blank\">https://wandb.ai/adey004azeez-hiipower-academy/football-match-prediction/runs/wt6hb9rk</a>"
      ],
      "text/plain": [
       "<IPython.core.display.HTML object>"
      ]
     },
     "metadata": {},
     "output_type": "display_data"
    },
    {
     "name": "stdout",
     "output_type": "stream",
     "text": [
      "Using device: cpu\n",
      "Dataset Info:\n",
      "<class 'pandas.core.frame.DataFrame'>\n",
      "RangeIndex: 406 entries, 0 to 405\n",
      "Data columns (total 16 columns):\n",
      " #   Column                   Non-Null Count  Dtype  \n",
      "---  ------                   --------------  -----  \n",
      " 0   home_team                406 non-null    object \n",
      " 1   away_team                406 non-null    object \n",
      " 2   home_score               406 non-null    int64  \n",
      " 3   away_score               406 non-null    int64  \n",
      " 4   Result                   406 non-null    object \n",
      " 5   home_points              406 non-null    int64  \n",
      " 6   away_points              406 non-null    int64  \n",
      " 7   Home Total Goals Scored  406 non-null    int64  \n",
      " 8   Away Total Goals Scored  406 non-null    int64  \n",
      " 9   Home Goals Conceded      406 non-null    int64  \n",
      " 10  Away Goals Conceded      406 non-null    int64  \n",
      " 11  Home Total Points        406 non-null    int64  \n",
      " 12  Away Total Points        406 non-null    int64  \n",
      " 13  id                       199 non-null    float64\n",
      " 14  matchday                 199 non-null    float64\n",
      " 15  date                     199 non-null    object \n",
      "dtypes: float64(2), int64(10), object(4)\n",
      "memory usage: 50.9+ KB\n",
      "None\n",
      "\n",
      "Duplicates found: False\n",
      "Dataset shape: (406, 16)\n"
     ]
    },
    {
     "name": "stderr",
     "output_type": "stream",
     "text": [
      "Traceback (most recent call last):\n",
      "  File \"C:\\Users\\USER\\AppData\\Local\\Temp\\ipykernel_788\\2210521205.py\", line 60, in train_model\n",
      "    scheduler = optim.lr_scheduler.ReduceLROnPlateau(\n",
      "                ^^^^^^^^^^^^^^^^^^^^^^^^^^^^^^^^^^^^^\n",
      "TypeError: ReduceLROnPlateau.__init__() got an unexpected keyword argument 'verbose'\n"
     ]
    },
    {
     "data": {
      "text/html": [],
      "text/plain": [
       "<IPython.core.display.HTML object>"
      ]
     },
     "metadata": {},
     "output_type": "display_data"
    },
    {
     "data": {
      "text/html": [
       " View run <strong style=\"color:#cdcd00\">winter-sweep-1</strong> at: <a href='https://wandb.ai/adey004azeez-hiipower-academy/football-match-prediction/runs/wt6hb9rk' target=\"_blank\">https://wandb.ai/adey004azeez-hiipower-academy/football-match-prediction/runs/wt6hb9rk</a><br> View project at: <a href='https://wandb.ai/adey004azeez-hiipower-academy/football-match-prediction' target=\"_blank\">https://wandb.ai/adey004azeez-hiipower-academy/football-match-prediction</a><br>Synced 5 W&B file(s), 0 media file(s), 0 artifact file(s) and 0 other file(s)"
      ],
      "text/plain": [
       "<IPython.core.display.HTML object>"
      ]
     },
     "metadata": {},
     "output_type": "display_data"
    },
    {
     "data": {
      "text/html": [
       "Find logs at: <code>.\\wandb\\run-20251001_054612-wt6hb9rk\\logs</code>"
      ],
      "text/plain": [
       "<IPython.core.display.HTML object>"
      ]
     },
     "metadata": {},
     "output_type": "display_data"
    },
    {
     "name": "stderr",
     "output_type": "stream",
     "text": [
      "Traceback (most recent call last):\n",
      "  File \"C:\\Users\\USER\\anaconda3\\Lib\\site-packages\\wandb\\agents\\pyagent.py\", line 297, in _run_job\n",
      "    self._function()\n",
      "  File \"C:\\Users\\USER\\AppData\\Local\\Temp\\ipykernel_788\\2210521205.py\", line 60, in train_model\n",
      "    scheduler = optim.lr_scheduler.ReduceLROnPlateau(\n",
      "                ^^^^^^^^^^^^^^^^^^^^^^^^^^^^^^^^^^^^^\n",
      "TypeError: ReduceLROnPlateau.__init__() got an unexpected keyword argument 'verbose'\n",
      "\n",
      "wandb: ERROR Run wt6hb9rk errored: ReduceLROnPlateau.__init__() got an unexpected keyword argument 'verbose'\n",
      "wandb: Agent Starting Run: q51760hv with config:\n",
      "wandb: \tbatch_size: 64\n",
      "wandb: \tdata_path: C:\\Users\\USER\\OneDrive\\Documents\\draw football model datasets\\combined_draw.csv\n",
      "wandb: \tdropout_prob: 0.25357898476034746\n",
      "wandb: \tepochs: 200\n",
      "wandb: \thidden_dim: 128\n",
      "wandb: \tlearning_rate: 0.0035956588868810186\n",
      "wandb: \tnum_layers: 2\n",
      "wandb: \toptimizer: AdamW\n",
      "wandb: \tpatience: 20\n",
      "wandb: \tweight_decay: 2.4388125084701183e-05\n"
     ]
    },
    {
     "data": {
      "text/html": [],
      "text/plain": [
       "<IPython.core.display.HTML object>"
      ]
     },
     "metadata": {},
     "output_type": "display_data"
    },
    {
     "data": {
      "text/html": [
       "Tracking run with wandb version 0.22.0"
      ],
      "text/plain": [
       "<IPython.core.display.HTML object>"
      ]
     },
     "metadata": {},
     "output_type": "display_data"
    },
    {
     "data": {
      "text/html": [
       "Run data is saved locally in <code>C:\\Users\\USER\\wandb\\run-20251001_054628-q51760hv</code>"
      ],
      "text/plain": [
       "<IPython.core.display.HTML object>"
      ]
     },
     "metadata": {},
     "output_type": "display_data"
    },
    {
     "data": {
      "text/html": [
       "Syncing run <strong><a href='https://wandb.ai/adey004azeez-hiipower-academy/football-match-prediction/runs/q51760hv' target=\"_blank\">desert-sweep-2</a></strong> to <a href='https://wandb.ai/adey004azeez-hiipower-academy/football-match-prediction' target=\"_blank\">Weights & Biases</a> (<a href='https://wandb.me/developer-guide' target=\"_blank\">docs</a>)<br>Sweep page: <a href='https://wandb.ai/adey004azeez-hiipower-academy/football-match-prediction/sweeps/7talnckg' target=\"_blank\">https://wandb.ai/adey004azeez-hiipower-academy/football-match-prediction/sweeps/7talnckg</a>"
      ],
      "text/plain": [
       "<IPython.core.display.HTML object>"
      ]
     },
     "metadata": {},
     "output_type": "display_data"
    },
    {
     "data": {
      "text/html": [
       " View project at <a href='https://wandb.ai/adey004azeez-hiipower-academy/football-match-prediction' target=\"_blank\">https://wandb.ai/adey004azeez-hiipower-academy/football-match-prediction</a>"
      ],
      "text/plain": [
       "<IPython.core.display.HTML object>"
      ]
     },
     "metadata": {},
     "output_type": "display_data"
    },
    {
     "data": {
      "text/html": [
       " View sweep at <a href='https://wandb.ai/adey004azeez-hiipower-academy/football-match-prediction/sweeps/7talnckg' target=\"_blank\">https://wandb.ai/adey004azeez-hiipower-academy/football-match-prediction/sweeps/7talnckg</a>"
      ],
      "text/plain": [
       "<IPython.core.display.HTML object>"
      ]
     },
     "metadata": {},
     "output_type": "display_data"
    },
    {
     "data": {
      "text/html": [
       " View run at <a href='https://wandb.ai/adey004azeez-hiipower-academy/football-match-prediction/runs/q51760hv' target=\"_blank\">https://wandb.ai/adey004azeez-hiipower-academy/football-match-prediction/runs/q51760hv</a>"
      ],
      "text/plain": [
       "<IPython.core.display.HTML object>"
      ]
     },
     "metadata": {},
     "output_type": "display_data"
    },
    {
     "name": "stdout",
     "output_type": "stream",
     "text": [
      "Using device: cpu\n",
      "Dataset Info:\n",
      "<class 'pandas.core.frame.DataFrame'>\n",
      "RangeIndex: 406 entries, 0 to 405\n",
      "Data columns (total 16 columns):\n",
      " #   Column                   Non-Null Count  Dtype  \n",
      "---  ------                   --------------  -----  \n",
      " 0   home_team                406 non-null    object \n",
      " 1   away_team                406 non-null    object \n",
      " 2   home_score               406 non-null    int64  \n",
      " 3   away_score               406 non-null    int64  \n",
      " 4   Result                   406 non-null    object \n",
      " 5   home_points              406 non-null    int64  \n",
      " 6   away_points              406 non-null    int64  \n",
      " 7   Home Total Goals Scored  406 non-null    int64  \n",
      " 8   Away Total Goals Scored  406 non-null    int64  \n",
      " 9   Home Goals Conceded      406 non-null    int64  \n",
      " 10  Away Goals Conceded      406 non-null    int64  \n",
      " 11  Home Total Points        406 non-null    int64  \n",
      " 12  Away Total Points        406 non-null    int64  \n",
      " 13  id                       199 non-null    float64\n",
      " 14  matchday                 199 non-null    float64\n",
      " 15  date                     199 non-null    object \n",
      "dtypes: float64(2), int64(10), object(4)\n",
      "memory usage: 50.9+ KB\n",
      "None\n",
      "\n",
      "Duplicates found: False\n",
      "Dataset shape: (406, 16)\n"
     ]
    },
    {
     "name": "stderr",
     "output_type": "stream",
     "text": [
      "Traceback (most recent call last):\n",
      "  File \"C:\\Users\\USER\\AppData\\Local\\Temp\\ipykernel_788\\2210521205.py\", line 60, in train_model\n",
      "    scheduler = optim.lr_scheduler.ReduceLROnPlateau(\n",
      "                ^^^^^^^^^^^^^^^^^^^^^^^^^^^^^^^^^^^^^\n",
      "TypeError: ReduceLROnPlateau.__init__() got an unexpected keyword argument 'verbose'\n"
     ]
    },
    {
     "data": {
      "text/html": [],
      "text/plain": [
       "<IPython.core.display.HTML object>"
      ]
     },
     "metadata": {},
     "output_type": "display_data"
    },
    {
     "data": {
      "text/html": [
       " View run <strong style=\"color:#cdcd00\">desert-sweep-2</strong> at: <a href='https://wandb.ai/adey004azeez-hiipower-academy/football-match-prediction/runs/q51760hv' target=\"_blank\">https://wandb.ai/adey004azeez-hiipower-academy/football-match-prediction/runs/q51760hv</a><br> View project at: <a href='https://wandb.ai/adey004azeez-hiipower-academy/football-match-prediction' target=\"_blank\">https://wandb.ai/adey004azeez-hiipower-academy/football-match-prediction</a><br>Synced 5 W&B file(s), 0 media file(s), 0 artifact file(s) and 0 other file(s)"
      ],
      "text/plain": [
       "<IPython.core.display.HTML object>"
      ]
     },
     "metadata": {},
     "output_type": "display_data"
    },
    {
     "data": {
      "text/html": [
       "Find logs at: <code>.\\wandb\\run-20251001_054628-q51760hv\\logs</code>"
      ],
      "text/plain": [
       "<IPython.core.display.HTML object>"
      ]
     },
     "metadata": {},
     "output_type": "display_data"
    },
    {
     "name": "stderr",
     "output_type": "stream",
     "text": [
      "Traceback (most recent call last):\n",
      "  File \"C:\\Users\\USER\\anaconda3\\Lib\\site-packages\\wandb\\agents\\pyagent.py\", line 297, in _run_job\n",
      "    self._function()\n",
      "  File \"C:\\Users\\USER\\AppData\\Local\\Temp\\ipykernel_788\\2210521205.py\", line 60, in train_model\n",
      "    scheduler = optim.lr_scheduler.ReduceLROnPlateau(\n",
      "                ^^^^^^^^^^^^^^^^^^^^^^^^^^^^^^^^^^^^^\n",
      "TypeError: ReduceLROnPlateau.__init__() got an unexpected keyword argument 'verbose'\n",
      "\n",
      "wandb: ERROR Run q51760hv errored: ReduceLROnPlateau.__init__() got an unexpected keyword argument 'verbose'\n",
      "wandb: Agent Starting Run: o07z7gxj with config:\n",
      "wandb: \tbatch_size: 16\n",
      "wandb: \tdata_path: C:\\Users\\USER\\OneDrive\\Documents\\draw football model datasets\\combined_draw.csv\n",
      "wandb: \tdropout_prob: 0.3827730726301136\n",
      "wandb: \tepochs: 200\n",
      "wandb: \thidden_dim: 256\n",
      "wandb: \tlearning_rate: 0.0002771712903593185\n",
      "wandb: \tnum_layers: 4\n",
      "wandb: \toptimizer: Adam\n",
      "wandb: \tpatience: 20\n",
      "wandb: \tweight_decay: 2.732964420111946e-06\n"
     ]
    },
    {
     "data": {
      "text/html": [],
      "text/plain": [
       "<IPython.core.display.HTML object>"
      ]
     },
     "metadata": {},
     "output_type": "display_data"
    },
    {
     "data": {
      "text/html": [
       "Tracking run with wandb version 0.22.0"
      ],
      "text/plain": [
       "<IPython.core.display.HTML object>"
      ]
     },
     "metadata": {},
     "output_type": "display_data"
    },
    {
     "data": {
      "text/html": [
       "Run data is saved locally in <code>C:\\Users\\USER\\wandb\\run-20251001_054639-o07z7gxj</code>"
      ],
      "text/plain": [
       "<IPython.core.display.HTML object>"
      ]
     },
     "metadata": {},
     "output_type": "display_data"
    },
    {
     "data": {
      "text/html": [
       "Syncing run <strong><a href='https://wandb.ai/adey004azeez-hiipower-academy/football-match-prediction/runs/o07z7gxj' target=\"_blank\">blooming-sweep-3</a></strong> to <a href='https://wandb.ai/adey004azeez-hiipower-academy/football-match-prediction' target=\"_blank\">Weights & Biases</a> (<a href='https://wandb.me/developer-guide' target=\"_blank\">docs</a>)<br>Sweep page: <a href='https://wandb.ai/adey004azeez-hiipower-academy/football-match-prediction/sweeps/7talnckg' target=\"_blank\">https://wandb.ai/adey004azeez-hiipower-academy/football-match-prediction/sweeps/7talnckg</a>"
      ],
      "text/plain": [
       "<IPython.core.display.HTML object>"
      ]
     },
     "metadata": {},
     "output_type": "display_data"
    },
    {
     "data": {
      "text/html": [
       " View project at <a href='https://wandb.ai/adey004azeez-hiipower-academy/football-match-prediction' target=\"_blank\">https://wandb.ai/adey004azeez-hiipower-academy/football-match-prediction</a>"
      ],
      "text/plain": [
       "<IPython.core.display.HTML object>"
      ]
     },
     "metadata": {},
     "output_type": "display_data"
    },
    {
     "data": {
      "text/html": [
       " View sweep at <a href='https://wandb.ai/adey004azeez-hiipower-academy/football-match-prediction/sweeps/7talnckg' target=\"_blank\">https://wandb.ai/adey004azeez-hiipower-academy/football-match-prediction/sweeps/7talnckg</a>"
      ],
      "text/plain": [
       "<IPython.core.display.HTML object>"
      ]
     },
     "metadata": {},
     "output_type": "display_data"
    },
    {
     "data": {
      "text/html": [
       " View run at <a href='https://wandb.ai/adey004azeez-hiipower-academy/football-match-prediction/runs/o07z7gxj' target=\"_blank\">https://wandb.ai/adey004azeez-hiipower-academy/football-match-prediction/runs/o07z7gxj</a>"
      ],
      "text/plain": [
       "<IPython.core.display.HTML object>"
      ]
     },
     "metadata": {},
     "output_type": "display_data"
    },
    {
     "name": "stdout",
     "output_type": "stream",
     "text": [
      "Using device: cpu\n",
      "Dataset Info:\n",
      "<class 'pandas.core.frame.DataFrame'>\n",
      "RangeIndex: 406 entries, 0 to 405\n",
      "Data columns (total 16 columns):\n",
      " #   Column                   Non-Null Count  Dtype  \n",
      "---  ------                   --------------  -----  \n",
      " 0   home_team                406 non-null    object \n",
      " 1   away_team                406 non-null    object \n",
      " 2   home_score               406 non-null    int64  \n",
      " 3   away_score               406 non-null    int64  \n",
      " 4   Result                   406 non-null    object \n",
      " 5   home_points              406 non-null    int64  \n",
      " 6   away_points              406 non-null    int64  \n",
      " 7   Home Total Goals Scored  406 non-null    int64  \n",
      " 8   Away Total Goals Scored  406 non-null    int64  \n",
      " 9   Home Goals Conceded      406 non-null    int64  \n",
      " 10  Away Goals Conceded      406 non-null    int64  \n",
      " 11  Home Total Points        406 non-null    int64  \n",
      " 12  Away Total Points        406 non-null    int64  \n",
      " 13  id                       199 non-null    float64\n",
      " 14  matchday                 199 non-null    float64\n",
      " 15  date                     199 non-null    object \n",
      "dtypes: float64(2), int64(10), object(4)\n",
      "memory usage: 50.9+ KB\n",
      "None\n",
      "\n",
      "Duplicates found: False\n",
      "Dataset shape: (406, 16)\n"
     ]
    },
    {
     "name": "stderr",
     "output_type": "stream",
     "text": [
      "Traceback (most recent call last):\n",
      "  File \"C:\\Users\\USER\\AppData\\Local\\Temp\\ipykernel_788\\2210521205.py\", line 60, in train_model\n",
      "    scheduler = optim.lr_scheduler.ReduceLROnPlateau(\n",
      "                ^^^^^^^^^^^^^^^^^^^^^^^^^^^^^^^^^^^^^\n",
      "TypeError: ReduceLROnPlateau.__init__() got an unexpected keyword argument 'verbose'\n"
     ]
    },
    {
     "data": {
      "text/html": [],
      "text/plain": [
       "<IPython.core.display.HTML object>"
      ]
     },
     "metadata": {},
     "output_type": "display_data"
    },
    {
     "data": {
      "text/html": [
       " View run <strong style=\"color:#cdcd00\">blooming-sweep-3</strong> at: <a href='https://wandb.ai/adey004azeez-hiipower-academy/football-match-prediction/runs/o07z7gxj' target=\"_blank\">https://wandb.ai/adey004azeez-hiipower-academy/football-match-prediction/runs/o07z7gxj</a><br> View project at: <a href='https://wandb.ai/adey004azeez-hiipower-academy/football-match-prediction' target=\"_blank\">https://wandb.ai/adey004azeez-hiipower-academy/football-match-prediction</a><br>Synced 5 W&B file(s), 0 media file(s), 0 artifact file(s) and 0 other file(s)"
      ],
      "text/plain": [
       "<IPython.core.display.HTML object>"
      ]
     },
     "metadata": {},
     "output_type": "display_data"
    },
    {
     "data": {
      "text/html": [
       "Find logs at: <code>.\\wandb\\run-20251001_054639-o07z7gxj\\logs</code>"
      ],
      "text/plain": [
       "<IPython.core.display.HTML object>"
      ]
     },
     "metadata": {},
     "output_type": "display_data"
    },
    {
     "name": "stderr",
     "output_type": "stream",
     "text": [
      "Traceback (most recent call last):\n",
      "  File \"C:\\Users\\USER\\anaconda3\\Lib\\site-packages\\wandb\\agents\\pyagent.py\", line 297, in _run_job\n",
      "    self._function()\n",
      "  File \"C:\\Users\\USER\\AppData\\Local\\Temp\\ipykernel_788\\2210521205.py\", line 60, in train_model\n",
      "    scheduler = optim.lr_scheduler.ReduceLROnPlateau(\n",
      "                ^^^^^^^^^^^^^^^^^^^^^^^^^^^^^^^^^^^^^\n",
      "TypeError: ReduceLROnPlateau.__init__() got an unexpected keyword argument 'verbose'\n",
      "\n",
      "wandb: ERROR Run o07z7gxj errored: ReduceLROnPlateau.__init__() got an unexpected keyword argument 'verbose'\n",
      "wandb: ERROR Detected 3 failed runs in the first 60 seconds, killing sweep.\n",
      "wandb: To disable this check set WANDB_AGENT_DISABLE_FLAPPING=true\n"
     ]
    },
    {
     "name": "stdout",
     "output_type": "stream",
     "text": [
      "\n",
      "================================================================================\n",
      "Sweep completed! Check your W&B dashboard for results.\n",
      "================================================================================\n"
     ]
    }
   ],
   "source": [
    "def setup_sweep():\n",
    "    \"\"\"Configure W&B sweep for hyperparameter tuning\"\"\"\n",
    "    sweep_config = {\n",
    "        'method': 'bayes',  # or 'grid', 'random'\n",
    "        'metric': {\n",
    "            'name': 'final/val_accuracy',\n",
    "            'goal': 'maximize'\n",
    "        },\n",
    "        'parameters': {\n",
    "            'learning_rate': {\n",
    "                'distribution': 'log_uniform_values',\n",
    "                'min': 0.0001,\n",
    "                'max': 0.01\n",
    "            },\n",
    "            'hidden_dim': {\n",
    "                'values': [64, 128, 256, 512]\n",
    "            },\n",
    "            'dropout_prob': {\n",
    "                'distribution': 'uniform',\n",
    "                'min': 0.2,\n",
    "                'max': 0.6\n",
    "            },\n",
    "            'batch_size': {\n",
    "                'values': [16, 32, 64]\n",
    "            },\n",
    "            'num_layers': {\n",
    "                'values': [2, 3, 4]\n",
    "            },\n",
    "            'optimizer': {\n",
    "                'values': ['Adam', 'AdamW', 'SGD']\n",
    "            },\n",
    "            'weight_decay': {\n",
    "                'distribution': 'log_uniform_values',\n",
    "                'min': 1e-6,\n",
    "                'max': 1e-3\n",
    "            },\n",
    "            'epochs': {\n",
    "                'value': 200\n",
    "            },\n",
    "            'patience': {\n",
    "                'value': 20\n",
    "            },\n",
    "            'data_path': {\n",
    "                'value': r\"C:\\Users\\USER\\OneDrive\\Documents\\draw football model datasets\\combined_draw.csv\"\n",
    "            }\n",
    "        }\n",
    "    }\n",
    "    return sweep_config\n",
    "\n",
    "if __name__ == \"__main__\":\n",
    "    # Login to W&B\n",
    "    wandb.login()\n",
    "    \n",
    "    # Option 1: Single run with default configuration\n",
    "    print(\"=\" * 80)\n",
    "    print(\"OPTION 1: Single Training Run\")\n",
    "    print(\"=\" * 80)\n",
    "    \n",
    "    default_config = {\n",
    "        'epochs': 200,\n",
    "        'hidden_dim': 128,\n",
    "        'batch_size': 32,\n",
    "        'learning_rate': 0.001,\n",
    "        'dropout_prob': 0.3,\n",
    "        'num_layers': 2,\n",
    "        'optimizer': 'Adam',\n",
    "        'weight_decay': 1e-5,\n",
    "        'patience': 20,\n",
    "        'data_path': r\"C:\\Users\\USER\\OneDrive\\Documents\\draw football model datasets\\combined_draw.csv\"\n",
    "    }\n",
    "    \n",
    "    # Uncomment to run single training\n",
    "    # wandb.init(project=\"football-match-prediction\", config=default_config, \n",
    "    #            name=\"baseline-run\")\n",
    "    # train_model(default_config)\n",
    "    # wandb.finish()\n",
    "    \n",
    "    # Option 2: Hyperparameter sweep\n",
    "    print(\"\\n\" + \"=\" * 80)\n",
    "    print(\"OPTION 2: Hyperparameter Sweep\")\n",
    "    print(\"=\" * 80)\n",
    "    \n",
    "    sweep_config = setup_sweep()\n",
    "    sweep_id = wandb.sweep(sweep_config, project=\"football-match-prediction\")\n",
    "    \n",
    "    # Run sweep\n",
    "    print(f\"\\nStarting sweep with ID: {sweep_id}\")\n",
    "    print(\"Run the following command to start sweep agents:\")\n",
    "    print(f\"wandb agent {sweep_id}\")\n",
    "    print(\"\\nOr run directly in Python:\")\n",
    "    \n",
    "    # Run sweep with specified number of runs\n",
    "    wandb.agent(sweep_id, function=train_model, count=20)  # Run 20 experiments\n",
    "    \n",
    "    print(\"\\n\" + \"=\" * 80)\n",
    "    print(\"Sweep completed! Check your W&B dashboard for results.\")\n",
    "    print(\"=\" * 80)"
   ]
  },
  {
   "cell_type": "code",
   "execution_count": null,
   "id": "5abd501f-7b82-4230-b137-e7c54351597a",
   "metadata": {},
   "outputs": [],
   "source": []
  },
  {
   "cell_type": "code",
   "execution_count": null,
   "id": "e5a105c1-5ef1-4b6e-8bc9-9fd0c08e5b73",
   "metadata": {},
   "outputs": [],
   "source": []
  },
  {
   "cell_type": "code",
   "execution_count": null,
   "id": "c48deca3-80f7-4ac3-91d9-42d8538308f3",
   "metadata": {},
   "outputs": [],
   "source": []
  },
  {
   "cell_type": "code",
   "execution_count": null,
   "id": "a18c5131-2f55-4e30-8074-9252a2e8b0bd",
   "metadata": {},
   "outputs": [],
   "source": []
  },
  {
   "cell_type": "code",
   "execution_count": null,
   "id": "bb52252e-fa94-4717-b5dd-427944ced448",
   "metadata": {},
   "outputs": [],
   "source": []
  },
  {
   "cell_type": "code",
   "execution_count": null,
   "id": "a55de0b0-27f2-477a-960b-1fb4b1429224",
   "metadata": {},
   "outputs": [],
   "source": []
  },
  {
   "cell_type": "code",
   "execution_count": null,
   "id": "9acf7b99-6643-424c-821c-234baf38d002",
   "metadata": {},
   "outputs": [],
   "source": []
  },
  {
   "cell_type": "code",
   "execution_count": null,
   "id": "c88b991e-0f4b-423e-8de3-6559362e5c17",
   "metadata": {},
   "outputs": [],
   "source": []
  },
  {
   "cell_type": "code",
   "execution_count": null,
   "id": "fb6a1969-aff1-45ff-b593-071d9c7bb7a7",
   "metadata": {},
   "outputs": [],
   "source": []
  },
  {
   "cell_type": "code",
   "execution_count": null,
   "id": "41e400a2-bbc5-43b0-ab4e-159b0fcd942f",
   "metadata": {},
   "outputs": [],
   "source": []
  },
  {
   "cell_type": "code",
   "execution_count": null,
   "id": "88b6eee8-d5a2-463c-93a9-30ed2157a85c",
   "metadata": {},
   "outputs": [],
   "source": []
  },
  {
   "cell_type": "code",
   "execution_count": null,
   "id": "b60b7444-a13d-418b-984b-8d41a726f6c5",
   "metadata": {},
   "outputs": [],
   "source": []
  },
  {
   "cell_type": "code",
   "execution_count": null,
   "id": "4617b86d-4885-4287-b301-e5b134dd4ff6",
   "metadata": {},
   "outputs": [],
   "source": []
  },
  {
   "cell_type": "code",
   "execution_count": null,
   "id": "fdd8b143-2904-4ff9-98ef-99933942720f",
   "metadata": {},
   "outputs": [],
   "source": []
  },
  {
   "cell_type": "code",
   "execution_count": null,
   "id": "4ce27796-2641-4c4e-bcf8-0321e87ef8f7",
   "metadata": {},
   "outputs": [],
   "source": []
  },
  {
   "cell_type": "code",
   "execution_count": null,
   "id": "651b1c86-80de-4cac-8e88-5152bb3cad8c",
   "metadata": {},
   "outputs": [],
   "source": []
  },
  {
   "cell_type": "code",
   "execution_count": null,
   "id": "54a81162-f2b8-483b-9eaf-75f27a06efa7",
   "metadata": {},
   "outputs": [],
   "source": []
  }
 ],
 "metadata": {
  "kernelspec": {
   "display_name": "Python 3 (ipykernel)",
   "language": "python",
   "name": "python3"
  },
  "language_info": {
   "codemirror_mode": {
    "name": "ipython",
    "version": 3
   },
   "file_extension": ".py",
   "mimetype": "text/x-python",
   "name": "python",
   "nbconvert_exporter": "python",
   "pygments_lexer": "ipython3",
   "version": "3.11.5"
  }
 },
 "nbformat": 4,
 "nbformat_minor": 5
}
