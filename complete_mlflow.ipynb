{
 "cells": [
  {
   "cell_type": "code",
   "execution_count": 1,
   "id": "75c8e7e1",
   "metadata": {},
   "outputs": [],
   "source": [
    "import pandas as pd\n"
   ]
  },
  {
   "cell_type": "code",
   "execution_count": 2,
   "id": "0a8dda7a",
   "metadata": {},
   "outputs": [],
   "source": [
    "import mlflow"
   ]
  },
  {
   "cell_type": "code",
   "execution_count": 3,
   "id": "e62ba69a",
   "metadata": {},
   "outputs": [],
   "source": [
    "import numpy as np\n",
    "import matplotlib.pyplot as plt\n",
    "from sklearn.model_selection import train_test_split,GridSearchCV,RandomizedSearchCV\n",
    "from sklearn.ensemble import RandomForestClassifier\n",
    "from sklearn.svm import SVC\n",
    "import mlflow.sklearn\n",
    "from sklearn.metrics import classification_report,accuracy_score\n",
    "import joblib"
   ]
  },
  {
   "cell_type": "code",
   "execution_count": 4,
   "id": "5a65a728",
   "metadata": {},
   "outputs": [],
   "source": [
    "df=pd.read_csv(r\"C:\\Users\\USER\\OneDrive\\Documents\\ML projects\\parkinson data\\parkinsons_disease_data.csv\")"
   ]
  },
  {
   "cell_type": "code",
   "execution_count": 5,
   "id": "35175249",
   "metadata": {},
   "outputs": [
    {
     "data": {
      "text/plain": [
       "np.int64(0)"
      ]
     },
     "execution_count": 5,
     "metadata": {},
     "output_type": "execute_result"
    }
   ],
   "source": [
    "df.duplicated().any().sum()"
   ]
  },
  {
   "cell_type": "code",
   "execution_count": 6,
   "id": "cef40b92",
   "metadata": {},
   "outputs": [],
   "source": [
    "df.dropna(how=\"any\",axis=0,inplace=True)"
   ]
  },
  {
   "cell_type": "code",
   "execution_count": 7,
   "id": "5cd44f37",
   "metadata": {},
   "outputs": [],
   "source": [
    "data=df.copy()"
   ]
  },
  {
   "cell_type": "code",
   "execution_count": 8,
   "id": "dd241c60",
   "metadata": {},
   "outputs": [],
   "source": [
    "X=data.drop(columns=[\"name\",\"status\"],axis=1)\n",
    "y=data['status']"
   ]
  },
  {
   "cell_type": "code",
   "execution_count": 9,
   "id": "c401ca5c",
   "metadata": {},
   "outputs": [
    {
     "name": "stderr",
     "output_type": "stream",
     "text": [
      "2025/10/01 01:38:04 WARNING mlflow.models.model: `artifact_path` is deprecated. Please use `name` instead.\n",
      "Registered model 'parkinson classifier' already exists. Creating a new version of this model...\n",
      "Created version '2' of model 'parkinson classifier'.\n"
     ]
    },
    {
     "name": "stdout",
     "output_type": "stream",
     "text": [
      "Test Accuracy: 0.9211\n",
      "Run ID: 454aaea90ebb4f49b0fe499411948168\n"
     ]
    }
   ],
   "source": [
    "# Set tracking URI\n",
    "mlflow.set_tracking_uri(\"./mlruns\")\n",
    "\n",
    "def train_model(X, y):\n",
    "    mlflow.set_experiment(\"parkison_complete\")\n",
    "    \n",
    "    with mlflow.start_run() as run:\n",
    "        X_train, X_test, y_train, y_test = train_test_split(X, y, test_size=0.2, random_state=42)\n",
    "        \n",
    "        # Log data information\n",
    "        mlflow.log_param(\"train_samples\", X_train.shape[0])\n",
    "        mlflow.log_param(\"test_samples\", X_test.shape[0])\n",
    "        mlflow.log_param(\"features\", X_train.shape[1])\n",
    "        \n",
    "        # Hyperparameter tuning\n",
    "        param_grid = {\n",
    "            \"n_estimators\": [50, 100, 150, 200],\n",
    "            \"max_depth\": [5, 10, 15, 20],\n",
    "            \"min_samples_split\": [2, 5, 10, 15],\n",
    "            \"max_features\": [\"sqrt\", \"log2\"],\n",
    "            \"criterion\": [\"entropy\", \"gini\"]\n",
    "        }\n",
    "        \n",
    "        rf = RandomForestClassifier(random_state=42)\n",
    "        grid_search = GridSearchCV(rf, param_grid=param_grid, cv=5, scoring=\"accuracy\")\n",
    "        grid_search.fit(X_train, y_train)\n",
    "        \n",
    "        # Log the best params\n",
    "        best_params = grid_search.best_params_ \n",
    "        for param, value in best_params.items():\n",
    "            mlflow.log_param(param, value)\n",
    "            \n",
    "        best_model = grid_search.best_estimator_\n",
    "        \n",
    "        train_accuracy = best_model.score(X_train, y_train)\n",
    "        test_accuracy = best_model.score(X_test, y_test)\n",
    "        \n",
    "        mlflow.log_metric(\"train_accuracy\", train_accuracy)\n",
    "        mlflow.log_metric(\"test_accuracy\", test_accuracy)\n",
    "        mlflow.log_metric(\"cv_score\", grid_search.best_score_)\n",
    "        \n",
    "        from mlflow.models.signature import infer_signature\n",
    "        signature = infer_signature(X_train, best_model.predict(X_train))\n",
    "        \n",
    "        mlflow.sklearn.log_model(\n",
    "            best_model,\n",
    "            \"random_forest_model\",\n",
    "            signature=signature,\n",
    "            input_example=X_train[:5],\n",
    "            registered_model_name=\"parkinson classifier\"\n",
    "        )\n",
    "        \n",
    "        # Log additional artifacts\n",
    "        # Feature importance plot\n",
    "        # Get feature names properly\n",
    "        if hasattr(X, 'columns'):\n",
    "            feature_names = X.columns\n",
    "        else:\n",
    "            feature_names = [f\"Feature_{i}\" for i in range(X.shape[1])]\n",
    "            \n",
    "        importances = best_model.feature_importances_\n",
    "        \n",
    "        plt.figure(figsize=(10, 6))\n",
    "        plt.bar(range(len(feature_names)), importances)\n",
    "        plt.xticks(range(len(feature_names)), feature_names, rotation=45)\n",
    "        plt.title(\"Feature Importances\")\n",
    "        plt.xlabel(\"Features\")\n",
    "        plt.ylabel(\"Importance\")\n",
    "        plt.tight_layout()\n",
    "        plt.savefig(\"feature_importance.png\")\n",
    "        mlflow.log_artifact(\"feature_importance.png\")\n",
    "        plt.close()\n",
    "        \n",
    "        # Classification report\n",
    "        y_pred = best_model.predict(X_test)\n",
    "        report = classification_report(y_test, y_pred)\n",
    "        with open(\"classification_report.txt\", \"w\") as f:\n",
    "            f.write(report)\n",
    "        mlflow.log_artifact(\"classification_report.txt\")\n",
    "        \n",
    "        print(f\"Test Accuracy: {test_accuracy:.4f}\")\n",
    "        print(f\"Run ID: {run.info.run_id}\")\n",
    "\n",
    "if __name__ == \"__main__\":\n",
    "    \n",
    "    train_model(X, y)"
   ]
  },
  {
   "cell_type": "code",
   "execution_count": null,
   "id": "baed9c4c",
   "metadata": {},
   "outputs": [],
   "source": []
  },
  {
   "cell_type": "code",
   "execution_count": null,
   "id": "ca7d620b",
   "metadata": {},
   "outputs": [],
   "source": []
  },
  {
   "cell_type": "code",
   "execution_count": null,
   "id": "588fac20",
   "metadata": {},
   "outputs": [],
   "source": []
  },
  {
   "cell_type": "code",
   "execution_count": null,
   "id": "85e450b8",
   "metadata": {},
   "outputs": [],
   "source": []
  },
  {
   "cell_type": "code",
   "execution_count": null,
   "id": "b8d5b3ed",
   "metadata": {},
   "outputs": [],
   "source": []
  },
  {
   "cell_type": "code",
   "execution_count": null,
   "id": "c2ad8afc",
   "metadata": {},
   "outputs": [],
   "source": []
  },
  {
   "cell_type": "code",
   "execution_count": null,
   "id": "18a3023e",
   "metadata": {},
   "outputs": [],
   "source": []
  },
  {
   "cell_type": "code",
   "execution_count": null,
   "id": "058e91c8",
   "metadata": {},
   "outputs": [],
   "source": []
  },
  {
   "cell_type": "code",
   "execution_count": null,
   "id": "75ee7650",
   "metadata": {},
   "outputs": [],
   "source": []
  },
  {
   "cell_type": "code",
   "execution_count": null,
   "id": "56d9b003",
   "metadata": {},
   "outputs": [],
   "source": []
  },
  {
   "cell_type": "code",
   "execution_count": null,
   "id": "6c6c6d64",
   "metadata": {},
   "outputs": [],
   "source": []
  },
  {
   "cell_type": "code",
   "execution_count": null,
   "id": "34e66f73",
   "metadata": {},
   "outputs": [],
   "source": []
  },
  {
   "cell_type": "code",
   "execution_count": null,
   "id": "02c8141e",
   "metadata": {},
   "outputs": [],
   "source": []
  },
  {
   "cell_type": "code",
   "execution_count": null,
   "id": "2b972616",
   "metadata": {},
   "outputs": [],
   "source": []
  },
  {
   "cell_type": "code",
   "execution_count": null,
   "id": "a61ec165",
   "metadata": {},
   "outputs": [],
   "source": []
  },
  {
   "cell_type": "code",
   "execution_count": null,
   "id": "4c2f75be",
   "metadata": {},
   "outputs": [],
   "source": []
  },
  {
   "cell_type": "code",
   "execution_count": null,
   "id": "b6248e96",
   "metadata": {},
   "outputs": [],
   "source": []
  },
  {
   "cell_type": "code",
   "execution_count": null,
   "id": "9a7a3335",
   "metadata": {},
   "outputs": [],
   "source": []
  },
  {
   "cell_type": "code",
   "execution_count": null,
   "id": "daeba346",
   "metadata": {},
   "outputs": [],
   "source": []
  },
  {
   "cell_type": "code",
   "execution_count": null,
   "id": "f69c8609",
   "metadata": {},
   "outputs": [],
   "source": []
  },
  {
   "cell_type": "code",
   "execution_count": null,
   "id": "a48cb12a",
   "metadata": {},
   "outputs": [],
   "source": []
  },
  {
   "cell_type": "code",
   "execution_count": null,
   "id": "1324443d",
   "metadata": {},
   "outputs": [],
   "source": []
  },
  {
   "cell_type": "code",
   "execution_count": null,
   "id": "c5aea7f2",
   "metadata": {},
   "outputs": [],
   "source": []
  },
  {
   "cell_type": "code",
   "execution_count": null,
   "id": "e776994f",
   "metadata": {},
   "outputs": [],
   "source": []
  },
  {
   "cell_type": "code",
   "execution_count": null,
   "id": "0c49301b",
   "metadata": {},
   "outputs": [],
   "source": []
  },
  {
   "cell_type": "code",
   "execution_count": null,
   "id": "1f6c1bd6",
   "metadata": {},
   "outputs": [],
   "source": []
  },
  {
   "cell_type": "code",
   "execution_count": null,
   "id": "1d5a8da7",
   "metadata": {},
   "outputs": [],
   "source": []
  },
  {
   "cell_type": "code",
   "execution_count": null,
   "id": "9537de38",
   "metadata": {},
   "outputs": [],
   "source": []
  },
  {
   "cell_type": "code",
   "execution_count": null,
   "id": "00cf07d4",
   "metadata": {},
   "outputs": [],
   "source": []
  }
 ],
 "metadata": {
  "kernelspec": {
   "display_name": "mlflow-env",
   "language": "python",
   "name": "python3"
  },
  "language_info": {
   "codemirror_mode": {
    "name": "ipython",
    "version": 3
   },
   "file_extension": ".py",
   "mimetype": "text/x-python",
   "name": "python",
   "nbconvert_exporter": "python",
   "pygments_lexer": "ipython3",
   "version": "3.12.1"
  }
 },
 "nbformat": 4,
 "nbformat_minor": 5
}
